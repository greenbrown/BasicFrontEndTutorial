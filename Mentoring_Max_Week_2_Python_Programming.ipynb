{
  "nbformat": 4,
  "nbformat_minor": 0,
  "metadata": {
    "colab": {
      "provenance": [],
      "collapsed_sections": [
        "QjkBfBPYQuBp",
        "HBpPiNIxd7os",
        "oMGlSKoCfuy-",
        "Bwed_S8cjsIO"
      ],
      "include_colab_link": true
    },
    "kernelspec": {
      "name": "python3",
      "display_name": "Python 3"
    },
    "language_info": {
      "name": "python"
    }
  },
  "cells": [
    {
      "cell_type": "markdown",
      "metadata": {
        "id": "view-in-github",
        "colab_type": "text"
      },
      "source": [
        "<a href=\"https://colab.research.google.com/github/greenbrown/BasicFrontEndTutorial/blob/master/Mentoring_Max_Week_2_Python_Programming.ipynb\" target=\"_parent\"><img src=\"https://colab.research.google.com/assets/colab-badge.svg\" alt=\"Open In Colab\"/></a>"
      ]
    },
    {
      "cell_type": "markdown",
      "source": [
        "# Week 2 - Python Programming\n",
        "---\n",
        "\n",
        "Mentoring Session - Job Preparation Program - Pacmann AI"
      ],
      "metadata": {
        "id": "oiHKP1fFcQg8"
      }
    },
    {
      "cell_type": "markdown",
      "source": [],
      "metadata": {
        "id": "vLq37am--d1S"
      }
    },
    {
      "cell_type": "code",
      "source": [
        "\n"
      ],
      "metadata": {
        "id": "AeWvo7CrYBs5"
      },
      "execution_count": null,
      "outputs": []
    },
    {
      "cell_type": "markdown",
      "source": [
        "# Task 1. Calculate Average Sessions"
      ],
      "metadata": {
        "id": "QjkBfBPYQuBp"
      }
    },
    {
      "cell_type": "markdown",
      "source": [
        "**Task Descriptions**\n",
        "\n",
        "- PacBook is a Social Media platform and they want to know what is their user Average Sessions and Session Duration for each data\n",
        "- Given a three input for `load_time` (in minutes) and `exit_time` (in minutes)\n",
        "\n",
        "- To calculate Session Duration, you can use this formula\n",
        "\n",
        "$$\n",
        "\\text{Session}_\\text{duration} = \\text{exit}_\\text{time} - \\text{load}_\\text{time}\n",
        "$$\n",
        "\n",
        "- To calculate Average Sessions, you can use this formula\n",
        "\n",
        "$$\n",
        "\\text{Average}_\\text{sessions} = \\frac{\\sum_{n=1}^{3}{\\text{Session_duration}_{n}}}{\\text{N_SESSIONS}}\n",
        "$$\n",
        "\n",
        "- But there are some constraints in this task\n",
        "  - If the input for `load_time` and `exit_time` is less than zero or negative values, it will print the result **`\"Not a Valid Input\"`**"
      ],
      "metadata": {
        "id": "swuueRxlUZLd"
      }
    },
    {
      "cell_type": "markdown",
      "source": [
        "**Input - 1**\n",
        "\n",
        "```py\n",
        "load_time_1 = 5\n",
        "exit_time_1 = 10\n",
        "\n",
        "load_time_2 = 2\n",
        "exit_time_2 = 15.5\n",
        "\n",
        "load_time_3 = 1\n",
        "exit_time_3 = 22.3\n",
        "```"
      ],
      "metadata": {
        "id": "Ik-_m7EQ3fXf"
      }
    },
    {
      "cell_type": "markdown",
      "source": [
        "**Output - 1**\n",
        "\n",
        "```py\n",
        "Session 1 Duration (in minutes): 5\n",
        "Session 2 Duration (in minutes): 13.5\n",
        "Session 3 Duration (in minutes): 21.3\n",
        "Average Session Duration (in minutes): 13.27\n",
        "```"
      ],
      "metadata": {
        "id": "mHkWLiAE3iMw"
      }
    },
    {
      "cell_type": "markdown",
      "source": [
        "**Input - 2**\n",
        "\n",
        "```py\n",
        "load_time_1 = 0\n",
        "exit_time_1 = 0\n",
        "\n",
        "load_time_2 = 0\n",
        "exit_time_2 = 0\n",
        "\n",
        "load_time_3 = 0\n",
        "exit_time_3 = 0\n",
        "```"
      ],
      "metadata": {
        "id": "5gIubmCR2vfI"
      }
    },
    {
      "cell_type": "markdown",
      "source": [
        "**Output - 2**\n",
        "\n",
        "```py\n",
        "Session 1 Duration (in minutes): 0\n",
        "Session 2 Duration (in minutes): 0\n",
        "Session 3 Duration (in minutes): 0\n",
        "Average Session Duration (in minutes): 0\n",
        "```"
      ],
      "metadata": {
        "id": "ZHXTFNaU232E"
      }
    },
    {
      "cell_type": "markdown",
      "source": [
        "**Input - 3**"
      ],
      "metadata": {
        "id": "O62tQZyJ3pSt"
      }
    },
    {
      "cell_type": "markdown",
      "source": [
        "```py\n",
        "load_time_1 = 3\n",
        "exit_time_1 = 7\n",
        "\n",
        "load_time_2 = -2\n",
        "exit_time_2 = 5\n",
        "\n",
        "load_time_3 = 3\n",
        "exit_time_3 = 156\n",
        "```"
      ],
      "metadata": {
        "id": "ljEAZIWj5sE8"
      }
    },
    {
      "cell_type": "markdown",
      "source": [
        "**Output - 3**\n",
        "\n",
        "```py\n",
        "Not a Valid Input\n",
        "```"
      ],
      "metadata": {
        "id": "6ivQBiJZ6DBC"
      }
    },
    {
      "cell_type": "code",
      "source": [
        "# Write your code here\n",
        "load_time_1 = 5\n",
        "exit_time_1 = 10\n",
        "\n",
        "load_time_2 = 2\n",
        "exit_time_2 = 15.5\n",
        "\n",
        "load_time_3 = 1\n",
        "exit_time_3 = 22.3\n",
        "\n",
        "\n",
        "# jawaban\n",
        "# Check if any input is negative\n",
        "if (load_time_1 < 0 or exit_time_1 < 0 or\n",
        "    load_time_2 < 0 or exit_time_2 < 0 or\n",
        "    load_time_3 < 0 or exit_time_3 < 0):\n",
        "    print(\"Not a Valid Input\")\n",
        "else:\n",
        "    session_durations = [exit_time_1 - load_time_1, exit_time_2 - load_time_2, exit_time_3 - load_time_3]\n",
        "    total_sessions = 0\n",
        "    total_duration = 0\n",
        "\n",
        "    # Calculate total sessions and total duration\n",
        "    for duration in session_durations:\n",
        "        total_sessions += 1\n",
        "        total_duration += duration\n",
        "\n",
        "    # Calculate average sessions\n",
        "    if total_sessions > 0:\n",
        "        average_sessions = total_duration / total_sessions\n",
        "        print(\"Average Sessions:\", average_sessions)\n"
      ],
      "metadata": {
        "colab": {
          "base_uri": "https://localhost:8080/"
        },
        "id": "xBjFB0GDQr-Z",
        "outputId": "89bd95ed-061b-4358-8563-2d9db12391cd"
      },
      "execution_count": 3,
      "outputs": [
        {
          "output_type": "stream",
          "name": "stdout",
          "text": [
            "Average Sessions: 13.266666666666666\n"
          ]
        }
      ]
    },
    {
      "cell_type": "markdown",
      "source": [
        "# Task 2. Temperature Converter Calculator\n",
        "\n",
        "Category: Medium\n",
        "\n",
        "---"
      ],
      "metadata": {
        "id": "HBpPiNIxd7os"
      }
    },
    {
      "cell_type": "markdown",
      "source": [
        "**Task Descriptions**\n",
        "- There are several unit of temperatures use by people around the world.\n",
        "  - For general people: Celcius or Fahrenheit\n",
        "  - For academic purposes: Kelvin\n",
        "- Your task is to create a temperature converter calculator.\n",
        "  - Celcius to Kelvin, vice versa\n",
        "  - Fahrenheit to Kelvin, vice versa\n",
        "  - Celcius to Fahrenheit, vice versa\n",
        "- **Addition**: Find how to convert the temperature by yourself."
      ],
      "metadata": {
        "id": "2t4h6o_Kd7ou"
      }
    },
    {
      "cell_type": "markdown",
      "source": [
        "**Input**\n",
        "\n",
        "```python\n",
        "temp = 20\n",
        "from_unit = 'Celcius'\n",
        "to_unit = 'Fahrenheit'\n",
        "```"
      ],
      "metadata": {
        "id": "SXFeDQkLd7ow"
      }
    },
    {
      "cell_type": "markdown",
      "source": [
        "**Output**\n",
        "```\n",
        "20 Celcius is equal to 68 Fahrenheit\n",
        "```"
      ],
      "metadata": {
        "id": "sHSt4LBEd7ox"
      }
    },
    {
      "cell_type": "markdown",
      "source": [
        "**Questions 1**\n",
        "\n",
        "---\n",
        "Draw your code flowchart"
      ],
      "metadata": {
        "id": "VrI6kmyUfq6H"
      }
    },
    {
      "cell_type": "markdown",
      "source": [
        "*Insert picture of your flowchart*"
      ],
      "metadata": {
        "id": "jdZDV7Bufq6i"
      }
    },
    {
      "cell_type": "code",
      "source": [],
      "metadata": {
        "id": "IF1ykqWSxq6w"
      },
      "execution_count": null,
      "outputs": []
    },
    {
      "cell_type": "markdown",
      "source": [
        "**Questions 2**\n",
        "\n",
        "---\n",
        "Create your code based on the flowchart"
      ],
      "metadata": {
        "id": "85ajEoeqfq6p"
      }
    },
    {
      "cell_type": "code",
      "execution_count": 31,
      "metadata": {
        "id": "jRiezMKUfq6v",
        "outputId": "a14b3d48-40c8-4011-b502-2846e04230c3",
        "colab": {
          "base_uri": "https://localhost:8080/"
        }
      },
      "outputs": [
        {
          "output_type": "stream",
          "name": "stdout",
          "text": [
            "20 Fahrenheit is equal to 266.48 Kelvin\n"
          ]
        }
      ],
      "source": [
        "# Write your code here\n",
        "temp = 20\n",
        "from_unit = 'FAHRENHEIT'\n",
        "to_unit = 'KelviN'\n",
        "\n",
        "from_unit = from_unit.lower()\n",
        "to_unit = to_unit.lower()\n",
        "\n",
        "# Check if input and output are the same\n",
        "if from_unit == to_unit:\n",
        "  print(\"Input and output units are the same. No need conversion.\")\n",
        "else:\n",
        "  # conversion logic\n",
        "  if from_unit == \"celcius\" and to_unit == \"fahrenheit\":\n",
        "    result = round((temp * 9/5) + 32, 2)\n",
        "    print(str(temp)+ \" Celcius is equal to \" + str(result)+ \" Fahrenheit\")\n",
        "\n",
        "  elif from_unit == \"fahrenheit\" and to_unit == \"celcius\":\n",
        "    result = round((temp - 32) * 5/9, 2)\n",
        "    print(str(temp)+ \" Fahrenheit is equal to \" + str(result)+ \" Celcius\")\n",
        "\n",
        "  elif from_unit == \"celcius\" and to_unit == \"kelvin\":\n",
        "    result = round(temp + 273.15, 2)\n",
        "    print(str(temp)+ \" Celcius is equal to \" + str(result)+ \" Kelvin\")\n",
        "\n",
        "  elif from_unit == \"kelvin\" and to_unit == \"celcius\":\n",
        "    result = round(temp - 273.15, 2)\n",
        "    print(str(temp)+ \" Kelvin is equal to \" + str(result)+ \" Celcius\")\n",
        "\n",
        "  elif from_unit == \"fahrenheit\" and to_unit == \"kelvin\":\n",
        "    result = round((temp - 32) * 5/9 + 273.15, 2)\n",
        "    print(str(temp)+ \" Fahrenheit is equal to \" + str(result)+ \" Kelvin\")\n",
        "\n",
        "  elif from_unit == \"kelvin\" and to_unit == \"fahrenheit\":\n",
        "    result = round((temp - 273.15) * 9/5 + 32, 2)\n",
        "    print(str(temp)+ \" Kelvin is equal to \" + str(result)+ \" Fahrenheit\")\n",
        "\n",
        "  else:\n",
        "        print(\"Invalid units. Please use Celcius, Fahrenheit, or Kelvin.\")"
      ]
    },
    {
      "cell_type": "markdown",
      "source": [
        "# Task 3. Extract NIK (Nomor Induk Kependudukan) Data\n",
        "\n",
        "Category: Hard\n",
        "\n",
        "---"
      ],
      "metadata": {
        "id": "oMGlSKoCfuy-"
      }
    },
    {
      "cell_type": "markdown",
      "source": [
        "**Task Descriptions**\n",
        "- NIK is not some random numbers. You can extract information from the NIK.\n",
        "  - The first six digits are a province, regency, and district code\n",
        "  - The next six digits are the date of birth; DD-MM-YY, respectively\n",
        "    - For men, the date of birth ranged between 01-31\n",
        "    - For women, the date of birth is added with 40, hence ranged between 41-71.\n",
        "  - The last 4 digits are a serial number of NIK issuance.\n",
        "\n",
        "\n",
        "- Given **two** NIK, your tasks are\n",
        "  1. Extract the date of birth of each NIK\n",
        "  2. Extract their gender.\n",
        "  3. Extract whether they have similar gender.\n",
        "  4. Extract whether they have similar month of birth."
      ],
      "metadata": {
        "id": "zA6xNheyfuzA"
      }
    },
    {
      "cell_type": "markdown",
      "source": [
        "**Input**\n",
        "\n",
        "```python\n",
        "nik_1 = 1571011709860003\n",
        "nik_2 = 2404075109910009\n",
        "```"
      ],
      "metadata": {
        "id": "mAxaxYujfuzD"
      }
    },
    {
      "cell_type": "markdown",
      "source": [
        "**Output**\n",
        "```\n",
        "Date of Birth\n",
        "- NIK 1 : 17-09-86\n",
        "- NIK 2 : 11-09-91\n",
        "\n",
        "Gender\n",
        "- NIK 1 : Male\n",
        "- NIK 2 : Female\n",
        "\n",
        "Do they have similar gender?\n",
        "No\n",
        "\n",
        "Do they have similar month of birth?\n",
        "Yes, it is on September\n",
        "```"
      ],
      "metadata": {
        "id": "S89bi74tfuzE"
      }
    },
    {
      "cell_type": "markdown",
      "source": [],
      "metadata": {
        "id": "SKFeGqu4exUY"
      }
    },
    {
      "cell_type": "markdown",
      "source": [
        "**Questions 1**\n",
        "\n",
        "---\n",
        "Draw your code flowchart"
      ],
      "metadata": {
        "id": "VXVzZLeAfuzG"
      }
    },
    {
      "cell_type": "markdown",
      "source": [
        "*Insert picture of your flowchart*"
      ],
      "metadata": {
        "id": "PlnLVk45fuzL"
      }
    },
    {
      "cell_type": "markdown",
      "source": [
        "**Questions 2**\n",
        "\n",
        "---\n",
        "Create your code based on the flowchart"
      ],
      "metadata": {
        "id": "Qu7qITjNfuzN"
      }
    },
    {
      "cell_type": "code",
      "execution_count": null,
      "metadata": {
        "id": "Eb60OMfVfuzO"
      },
      "outputs": [],
      "source": [
        "# Write your code here\n",
        "nik_1 = ...\n",
        "nik_2 = ..."
      ]
    },
    {
      "cell_type": "markdown",
      "source": [
        "# Task 4. Calculate Pajak Penghasilan (Simplified)\n",
        "\n",
        "Category: Hard\n",
        "\n",
        "---"
      ],
      "metadata": {
        "id": "Bwed_S8cjsIO"
      }
    },
    {
      "cell_type": "markdown",
      "source": [
        "**Task Descriptions**\n",
        "- According to Pemotongan Pajak Penghasilan PPh Pasal 21 Tahun 2016, we can calculate our income tax as (we'll write in Bahasa Indonesia for avoiding missinterpretation)\n",
        "\n",
        "- **Penghasilan tidak kena pajak (PTKP)**\n",
        "  - Penghasilan Rp 54.000.000 setahun untuk wajib pajak.\n",
        "  - Tambahan Rp 4.500.000 diberikan jika wajib pajak menikah.\n",
        "  - Tambahan Rp 4.500.000 lagi jika punya 1 orang anak atau Rp 9.000.000 jika punya 2 orang anak. Apabila jumlah tanggungan lebih dari itu, maka tetap dihitung 3 orang tanggungan.\n",
        "\n",
        "- **Tarif Pajak Penghasilan**\n",
        "  - 5% untuk penghasilan kena pajak (PKP) sampai dengan 60 Juta\n",
        "  - 15% untuk PKP di atas 60 juta sampai dengan 250 Juta\n",
        "  - 25% untuk PKP di atas 250 juta sampai dengan 500 juta\n",
        "  - 30% untuk PKP di atas 500 juta sampai dengan 5 miliar\n",
        "  - 35% untuk PKP di atas 5 miliar\n",
        "\n",
        "- Your task is calculate the income tax given\n",
        "  - Monthly income\n",
        "  - Marital status\n",
        "  - The number of dependents (jumlah tanggungan)"
      ],
      "metadata": {
        "id": "zoDj-s5RjsIR"
      }
    },
    {
      "cell_type": "markdown",
      "source": [
        "**Input - 1**\n",
        "\n",
        "```python\n",
        "monthly_income = 4750000\n",
        "marital_status = 'single'\n",
        "n_dependents = 0\n",
        "```"
      ],
      "metadata": {
        "id": "6Z-n6OrpjsIT"
      }
    },
    {
      "cell_type": "markdown",
      "source": [
        "**Output - 1**\n",
        "```\n",
        "Penghasilan neto setahun:\n",
        "57000000\n",
        "\n",
        "PTKP TK/0:\n",
        "-54000000\n",
        "\n",
        "Penghasilan Kena Pajak:\n",
        "3000000\n",
        "\n",
        "PPh 21 terutang setahun:\n",
        "150000\n",
        "```"
      ],
      "metadata": {
        "id": "4J86ID58jsIU"
      }
    },
    {
      "cell_type": "markdown",
      "source": [
        "**Input - 2**\n",
        "\n",
        "```python\n",
        "monthly_income = 15000000\n",
        "marital_status = 'married'\n",
        "n_dependents = 3\n",
        "```"
      ],
      "metadata": {
        "id": "I3vgqcHSpcRx"
      }
    },
    {
      "cell_type": "markdown",
      "source": [
        "**Output - 2**\n",
        "```\n",
        "Penghasilan neto setahun:\n",
        "180000000\n",
        "\n",
        "PTKP K/3:\n",
        "-72000000\n",
        "\n",
        "Penghasilan Kena Pajak:\n",
        "108000000\n",
        "\n",
        "PPh 21 terutang setahun:\n",
        "16200000\n",
        "```"
      ],
      "metadata": {
        "id": "Wuy3LHIGpcSr"
      }
    },
    {
      "cell_type": "markdown",
      "source": [
        "**Questions 1**\n",
        "\n",
        "---\n",
        "Draw your code flowchart"
      ],
      "metadata": {
        "id": "iUT8TvxFjsIW"
      }
    },
    {
      "cell_type": "markdown",
      "source": [
        "*Insert picture of your flowchart*"
      ],
      "metadata": {
        "id": "EGFOt7TZjsIX"
      }
    },
    {
      "cell_type": "markdown",
      "source": [
        "**Questions 2**\n",
        "\n",
        "---\n",
        "Create your code based on the flowchart"
      ],
      "metadata": {
        "id": "DpEkIMiJjsIY"
      }
    },
    {
      "cell_type": "code",
      "execution_count": null,
      "metadata": {
        "id": "DQkvhd4TjsIa"
      },
      "outputs": [],
      "source": [
        "# Write your code here\n",
        "monthly_income = ...\n",
        "marital_status = ...\n",
        "n_dependents = ..."
      ]
    }
  ]
}